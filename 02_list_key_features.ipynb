{
 "cells": [
  {
   "cell_type": "markdown",
   "metadata": {},
   "source": [
    "## Q.2 Explain the key features of lists in Python"
   ]
  },
  {
   "cell_type": "markdown",
   "metadata": {},
   "source": [
    "Lists in Python are one of the most versatile and commonly used data structures. \n",
    "\n",
    "A list is an ordered data structure with elements separated by a comma and enclosed within square brackets [ ] .\n",
    "\n",
    "lists are like shopping bags which can store everything.\n",
    "\n",
    "\n",
    "They are used to store multiple items in a single variable. \n",
    "\n",
    "Here are the some main key features of lists in Python\n",
    "\n",
    "\n",
    "\n"
   ]
  },
  {
   "cell_type": "markdown",
   "metadata": {},
   "source": [
    "### 1. Ordered Collection.\n",
    "\n",
    "Lists maintain the order of elements. \n",
    "The order in which elements are added is the order in which they are stored and accessed.\n"
   ]
  },
  {
   "cell_type": "code",
   "execution_count": 1,
   "metadata": {},
   "outputs": [
    {
     "name": "stdout",
     "output_type": "stream",
     "text": [
      "[1, 2, 3, 4]\n"
     ]
    }
   ],
   "source": [
    "my_list = [1, 2, 3, 4]\n",
    "print(my_list) \n",
    "# Output: [1, 2, 3, 4]\n"
   ]
  },
  {
   "cell_type": "markdown",
   "metadata": {},
   "source": [
    "### 2. Mutable Data types.\n",
    "Lists are mutable, meaning you can change their contents after they are created.\n",
    " You can add, remove, or modify elements.\n",
    "\n"
   ]
  },
  {
   "cell_type": "code",
   "execution_count": 2,
   "metadata": {},
   "outputs": [
    {
     "name": "stdout",
     "output_type": "stream",
     "text": [
      "['apple', 'potato', 'orange']\n"
     ]
    }
   ],
   "source": [
    "# modifing elemnts \n",
    "l1 = ['apple', 'banana', 'orange']\n",
    "l1[1] = \"potato\" # it will chnage the index 1 with potato\n",
    "print(l1) #['apple', 'potato', 'orange']"
   ]
  },
  {
   "cell_type": "code",
   "execution_count": 3,
   "metadata": {},
   "outputs": [
    {
     "name": "stdout",
     "output_type": "stream",
     "text": [
      "['apple', 'rice', 'banana', 'orange']\n"
     ]
    }
   ],
   "source": [
    "l1 = ['apple', 'banana', 'orange']\n",
    "\n",
    "\n",
    "l1.insert(1,\"rice\") #inserts the element before the index\n",
    "print(l1) # ['apple', 'rice', 'banana', 'orange']"
   ]
  },
  {
   "cell_type": "markdown",
   "metadata": {},
   "source": [
    "### 3. Allow Duplicates.\n",
    "Lists can contain duplicate elements\n",
    "\n",
    "\n"
   ]
  },
  {
   "cell_type": "code",
   "execution_count": 4,
   "metadata": {},
   "outputs": [
    {
     "name": "stdout",
     "output_type": "stream",
     "text": [
      "[1, 2, 2, 3, 5, 5, 6, 7]\n"
     ]
    }
   ],
   "source": [
    "my_list = [1, 2, 2, 3, 5, 5, 6,7]\n",
    "print(my_list) # here many elemnts are present many times"
   ]
  },
  {
   "cell_type": "markdown",
   "metadata": {},
   "source": [
    "### 4. Heterogeneous elemts.\n",
    "Lists can contain elements of different data types, such as integers, strings, floats, or even other lists.\n"
   ]
  },
  {
   "cell_type": "code",
   "execution_count": 5,
   "metadata": {},
   "outputs": [
    {
     "name": "stdout",
     "output_type": "stream",
     "text": [
      "<class 'list'>\n",
      "[1, 'hello', 3.5, [4, 5], (1, 2, 3, 4), {'name': 'swaraj'}]\n"
     ]
    }
   ],
   "source": [
    "# example of list containing heterogeneous elemnt inside \n",
    "\n",
    "my_list = [1, \"hello\", 3.5, [4, 5],(1,2,3,4),{\"name\":\"swaraj\"}]\n",
    "print(type(my_list))\n",
    "print(my_list)  \n",
    "# Output: [1, 'hello', 3.5, [4, 5], (1, 2, 3, 4), {'name': 'swaraj'}]\n"
   ]
  },
  {
   "cell_type": "markdown",
   "metadata": {},
   "source": [
    "### 5. Dynamic Size\n",
    "Lists can grow or shrink in size dynamically. \n",
    "You can add or remove elements as needed"
   ]
  },
  {
   "cell_type": "code",
   "execution_count": 6,
   "metadata": {},
   "outputs": [
    {
     "name": "stdout",
     "output_type": "stream",
     "text": [
      "<class 'list'>\n",
      "['apple', 'banana', 'orange']\n"
     ]
    }
   ],
   "source": [
    "## adding to list\n",
    "\n",
    "l1=[\"apple\",\"banana\"]\n",
    "print(type(l1))  #<class 'list'>\n",
    "l1.append(\"orange\")\n",
    "print(l1) #['apple', 'banana', 'orange']"
   ]
  },
  {
   "cell_type": "code",
   "execution_count": 7,
   "metadata": {},
   "outputs": [
    {
     "name": "stdout",
     "output_type": "stream",
     "text": [
      "['banana', 'orange']\n"
     ]
    }
   ],
   "source": [
    "# removing an element\n",
    "l1 = ['apple', 'banana', 'orange']\n",
    "(l1.remove(\"apple\")) # it will remove \"apple\"\n",
    "print(l1) # ['apple', 'banana', 'orange']"
   ]
  },
  {
   "cell_type": "code",
   "execution_count": 8,
   "metadata": {},
   "outputs": [
    {
     "name": "stdout",
     "output_type": "stream",
     "text": [
      "[1, 2, 3, 4]\n",
      "[1, 2, 4]\n"
     ]
    }
   ],
   "source": [
    "my_list = [1, 2, 3]\n",
    "my_list.append(4)\n",
    "print(my_list)  # Output: [1, 2, 3, 4]\n",
    "\n",
    "my_list.pop(2)\n",
    "print(my_list)  # Output: [1, 2, 4]\n"
   ]
  },
  {
   "cell_type": "markdown",
   "metadata": {},
   "source": [
    "### 6. Indexing and Slicing\n",
    "\n",
    "Elements in a list can be accessed using indices, similar to strings. \n",
    "You can also slice lists to obtain sublists."
   ]
  },
  {
   "cell_type": "code",
   "execution_count": 9,
   "metadata": {},
   "outputs": [
    {
     "name": "stdout",
     "output_type": "stream",
     "text": [
      "['milk', 'orange', 1, 1.3, (4+3j)]\n",
      "<class 'list'>\n"
     ]
    }
   ],
   "source": [
    "grocery_list=[\"milk\", \"orange\",1,1.3, 3j+4]\n",
    "print(grocery_list)\n",
    "print(type(grocery_list))"
   ]
  },
  {
   "cell_type": "code",
   "execution_count": 10,
   "metadata": {},
   "outputs": [
    {
     "name": "stdout",
     "output_type": "stream",
     "text": [
      "milk\n",
      "['orange', 1, 1.3, (4+3j)]\n"
     ]
    }
   ],
   "source": [
    "\n",
    "print(grocery_list[0])  # output : milk\n",
    "\n",
    "print(grocery_list[1:])  # ['orange', 1, 1.3, (4+3j)]"
   ]
  },
  {
   "cell_type": "code",
   "execution_count": 11,
   "metadata": {},
   "outputs": [
    {
     "name": "stdout",
     "output_type": "stream",
     "text": [
      "ranjan\n",
      "sanjay\n"
     ]
    }
   ],
   "source": [
    "que=[\"ajay\",\"bijay\",\"sanjay\",\"ranjan\"]\n",
    "print(que[-1]) # ranjan\n",
    "print(que[-2]) # sanjay"
   ]
  },
  {
   "cell_type": "markdown",
   "metadata": {},
   "source": [
    "### 7. Nested Lists\n",
    "\n",
    "Lists can contain other lists as elements, allowing you to create multi-dimensional arrays.\n",
    "\n",
    "\n"
   ]
  },
  {
   "cell_type": "code",
   "execution_count": 12,
   "metadata": {},
   "outputs": [
    {
     "name": "stdout",
     "output_type": "stream",
     "text": [
      "6\n"
     ]
    }
   ],
   "source": [
    "nested_list = [[1, 2, 3], [4, 5, 6], [7, 8, 9]]\n",
    "print(nested_list[1][2])  # Output: 6\n"
   ]
  },
  {
   "cell_type": "markdown",
   "metadata": {},
   "source": [
    "### 8. List Comprehensions\n",
    "\n",
    "List comprehensions provide a concise way to create lists. \n",
    "\n",
    "They are often used to apply some operation to each element or to filter elements in a list.\n",
    "\n"
   ]
  },
  {
   "cell_type": "code",
   "execution_count": 13,
   "metadata": {},
   "outputs": [
    {
     "name": "stdout",
     "output_type": "stream",
     "text": [
      "[0, 1, 4, 9, 16]\n"
     ]
    }
   ],
   "source": [
    "squares = [x**2 for x in range(5)]\n",
    "print(squares)  # Output: [0, 1, 4, 9, 16]\n"
   ]
  },
  {
   "cell_type": "code",
   "execution_count": 14,
   "metadata": {},
   "outputs": [
    {
     "name": "stdout",
     "output_type": "stream",
     "text": [
      "[20, 40, 60, 80, 100]\n"
     ]
    }
   ],
   "source": [
    "\n",
    "# list comprehension\n",
    "\n",
    "price =[10,20,30,40,50]\n",
    "doubled_price = []\n",
    "for i in price:\n",
    "    doubled_price.append(i*2)\n",
    "print(doubled_price)"
   ]
  },
  {
   "cell_type": "code",
   "execution_count": 15,
   "metadata": {},
   "outputs": [
    {
     "data": {
      "text/plain": [
       "[20, 40, 60, 80, 100]"
      ]
     },
     "execution_count": 15,
     "metadata": {},
     "output_type": "execute_result"
    }
   ],
   "source": [
    "# the above code in list comprehension\n",
    "\n",
    "[prices * 2 for prices in price]"
   ]
  },
  {
   "cell_type": "markdown",
   "metadata": {},
   "source": [
    "### 9. Built-in Methods\n",
    "Python provides several built-in methods to work with lists, such as\n",
    "append(), extend(), insert(), remove(), pop(), sort(), and reverse().\n",
    "\n"
   ]
  },
  {
   "cell_type": "code",
   "execution_count": 16,
   "metadata": {},
   "outputs": [
    {
     "name": "stdout",
     "output_type": "stream",
     "text": [
      "[1, 14, 33, 5, 6, 78, 94, 34, 8]\n",
      "[1, 5, 6, 8, 14, 33, 34, 78, 94]\n",
      "[94, 78, 34, 33, 14, 8, 6, 5, 1]\n",
      "[94, 78, 34, 33, 14, 8, 6, 5, 1, 101]\n",
      "[12, 94, 78, 34, 33, 14, 8, 6, 5, 1, 101]\n",
      "[12, 94, 76, 78, 34, 33, 14, 8, 6, 5, 1, 101]\n",
      "[94, 76, 78, 34, 33, 14, 8, 6, 5, 1]\n",
      "[94, 78, 34, 33, 14, 8, 6, 5, 1]\n"
     ]
    }
   ],
   "source": [
    "\n",
    "l1  = [1,14,33,5,6,78,94,34,8,]\n",
    "print(l1) #[1, 14, 33, 5, 6, 78, 94, 34, 8]\n",
    "\n",
    "# sortinh l1 \n",
    "l1.sort()\n",
    "print(l1) # output: [1, 5, 6, 8, 14, 33, 34, 78, 94]\n",
    "\n",
    "# reversing l1 \n",
    "\n",
    "l1.reverse()\n",
    "print(l1)\n",
    "\n",
    "# adding item to list uning appen()  \n",
    "l1.append(101)\n",
    "print(l1) # [94, 78, 34, 33, 14, 8, 6, 5, 1, 101]\n",
    "\n",
    "\n",
    "# insert (1 ,102) here 1 is indedx number and 102 item \n",
    "l1.insert(0,12)\n",
    "print(l1) # [12, 94, 78, 34, 33, 14, 8, 6, 5, 1, 101]\n",
    "\n",
    "\n",
    "\n",
    "l1.insert(2,76)\n",
    "print(l1)  # [12, 94, 76, 78, 34, 33, 14, 8, 6, 5, 1, 101]\n",
    "\n",
    "\n",
    "# pop -it will delet the index \n",
    "l1.pop(0)\n",
    "l1.pop(-1)\n",
    "print(l1)\n",
    "\n",
    "# remove - it will remove the () \n",
    "l1.remove(76) \n",
    "print(l1)  # [94, 78, 34, 33, 14, 8, 6, 5, 1]"
   ]
  },
  {
   "cell_type": "markdown",
   "metadata": {},
   "source": [
    "### 10. Iterating through Lists\n",
    "\n",
    "You can iterate through the elements of a list using loops.\n",
    "\n"
   ]
  },
  {
   "cell_type": "code",
   "execution_count": 17,
   "metadata": {},
   "outputs": [
    {
     "name": "stdout",
     "output_type": "stream",
     "text": [
      "apple\n",
      "banana\n",
      "cherry\n"
     ]
    }
   ],
   "source": [
    "my_list = [\"apple\", \"banana\", \"cherry\"]\n",
    "for fruit in my_list:\n",
    "    print(fruit)\n",
    "\n",
    "# apple\n",
    "# banana\n",
    "# cherry\n"
   ]
  },
  {
   "cell_type": "markdown",
   "metadata": {},
   "source": [
    "### 11.Membership Testing\n",
    "You can check if an element is present in a list using the \"in\"  and \"not in\" keyword.\n",
    "\n"
   ]
  },
  {
   "cell_type": "code",
   "execution_count": 18,
   "metadata": {},
   "outputs": [
    {
     "name": "stdout",
     "output_type": "stream",
     "text": [
      "True\n",
      "False\n"
     ]
    }
   ],
   "source": [
    "new_list = ['apple', 'orange', 'banana', 'potato', 'tomato', 'brinjal']\n",
    "# membership >> in ,not in\n",
    "\n",
    "print(\"orange\" in new_list) #ooutput : True\n",
    "\n",
    "print(\"orange\" not in new_list) # out put : False"
   ]
  },
  {
   "cell_type": "markdown",
   "metadata": {},
   "source": [
    "Python lists are a fundamental data structure that offer flexibility and power through their ability to hold heterogeneous, ordered collections of elements, their dynamic resizing, and their wide range of built-in functionalities. \n",
    "Whether you are manipulating individual elements or working with the list as a whole, Python lists provide a robust platform for data management."
   ]
  }
 ],
 "metadata": {
  "kernelspec": {
   "display_name": "Python 3",
   "language": "python",
   "name": "python3"
  },
  "language_info": {
   "codemirror_mode": {
    "name": "ipython",
    "version": 3
   },
   "file_extension": ".py",
   "mimetype": "text/x-python",
   "name": "python",
   "nbconvert_exporter": "python",
   "pygments_lexer": "ipython3",
   "version": "3.12.4"
  }
 },
 "nbformat": 4,
 "nbformat_minor": 2
}
