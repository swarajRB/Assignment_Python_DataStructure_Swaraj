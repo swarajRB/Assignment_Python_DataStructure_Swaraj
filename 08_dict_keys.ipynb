{
 "cells": [
  {
   "cell_type": "markdown",
   "metadata": {},
   "source": [
    "## Q.8 Discuss the importance of dictionary keys being immutable and provide examples."
   ]
  },
  {
   "cell_type": "markdown",
   "metadata": {},
   "source": [
    "In Python, dictionary keys must be immutable. This requirement is crucial because dictionary keys are used to store and retrieve values efficient.\n",
    "\n",
    "\n",
    "Python dictionaries are implemented using hash tables. When you use a key to store a value in a dictionary, Python calculates a hash of the key. This hash value determines where the value is stored in memory.\n",
    "\n",
    "\n",
    "Immutable objects like strings, numbers, and tuples have fixed hash values. If a key were mutable (like a list), its content could change, which would change its hash value. This would cause inconsistencies in locating the key's corresponding value in the dictionary.\n",
    "\n",
    "Immutability ensures that the key remains constant throughout its lifetime in the dictionary. If keys were mutable, changing the key after it has been added to the dictionary would make it difficult to retrieve the value, leading to bugs and unpredictable behavior.\n",
    "\n",
    "\n",
    "Immutable: Strings, numbers, tuples.\n",
    "\n",
    "Unacceptable: Lists, dictionaries (mutable)."
   ]
  },
  {
   "cell_type": "markdown",
   "metadata": {},
   "source": [
    "* immutable objects as key "
   ]
  },
  {
   "cell_type": "code",
   "execution_count": 1,
   "metadata": {},
   "outputs": [
    {
     "name": "stdout",
     "output_type": "stream",
     "text": [
      "{1: 'abc'}\n"
     ]
    }
   ],
   "source": [
    "# rules of defining keys\n",
    "\n",
    "# numbers can be the key of dictionary\n",
    "d = {1:\"abc\"} # integer as key\n",
    "print(d)\n"
   ]
  },
  {
   "cell_type": "code",
   "execution_count": 2,
   "metadata": {},
   "outputs": [
    {
     "name": "stdout",
     "output_type": "stream",
     "text": [
      "{1.2: 'abc'}\n"
     ]
    }
   ],
   "source": [
    "# float can be key of a dictionary as it is immutable \n",
    "\n",
    "d = {1.2: \"abc\"}\n",
    "print(d) # flot as key"
   ]
  },
  {
   "cell_type": "code",
   "execution_count": 3,
   "metadata": {},
   "outputs": [
    {
     "name": "stdout",
     "output_type": "stream",
     "text": [
      "{True: 'any value'}\n"
     ]
    }
   ],
   "source": [
    "# bool values can be key >> immutble \n",
    "d = {True: \"any value\"} #boolean valule as key\n",
    "print(d) "
   ]
  },
  {
   "cell_type": "code",
   "execution_count": 4,
   "metadata": {},
   "outputs": [
    {
     "name": "stdout",
     "output_type": "stream",
     "text": [
      "{(1, 2, 3): 'abc'}\n",
      "<class 'dict'>\n"
     ]
    }
   ],
   "source": [
    "# tuple as key is possible\n",
    "\n",
    "d = {(1,2,3): \"abc\"} # you can have a tuple as a key > immutable\n",
    " \n",
    "\n",
    "print(d)\n",
    "print(type(d))"
   ]
  },
  {
   "cell_type": "markdown",
   "metadata": {},
   "source": [
    "* mutable objects as key always shows error "
   ]
  },
  {
   "cell_type": "code",
   "execution_count": 5,
   "metadata": {},
   "outputs": [
    {
     "ename": "SyntaxError",
     "evalue": "invalid syntax (2996636403.py, line 1)",
     "output_type": "error",
     "traceback": [
      "\u001b[1;36m  Cell \u001b[1;32mIn[5], line 1\u001b[1;36m\u001b[0m\n\u001b[1;33m    d = {@:\"ram\"}  # >> special char are not be key of dict\u001b[0m\n\u001b[1;37m         ^\u001b[0m\n\u001b[1;31mSyntaxError\u001b[0m\u001b[1;31m:\u001b[0m invalid syntax\n"
     ]
    }
   ],
   "source": [
    "d = {@:\"ram\"}  # >> special char are not be key of dict "
   ]
  },
  {
   "cell_type": "code",
   "execution_count": 6,
   "metadata": {},
   "outputs": [
    {
     "ename": "TypeError",
     "evalue": "unhashable type: 'list'",
     "output_type": "error",
     "traceback": [
      "\u001b[1;31m---------------------------------------------------------------------------\u001b[0m",
      "\u001b[1;31mTypeError\u001b[0m                                 Traceback (most recent call last)",
      "Cell \u001b[1;32mIn[6], line 1\u001b[0m\n\u001b[1;32m----> 1\u001b[0m d \u001b[38;5;241m=\u001b[39m {[\u001b[38;5;241m1\u001b[39m,\u001b[38;5;241m2\u001b[39m,\u001b[38;5;241m3\u001b[39m] : \u001b[38;5;124m\"\u001b[39m\u001b[38;5;124mapppu\u001b[39m\u001b[38;5;124m\"\u001b[39m} \u001b[38;5;66;03m# you van not list as key >> unhashable error\u001b[39;00m\n",
      "\u001b[1;31mTypeError\u001b[0m: unhashable type: 'list'"
     ]
    }
   ],
   "source": [
    "d = {[1,2,3] : \"apppu\"} # you van not list as key >> unhashable error"
   ]
  },
  {
   "cell_type": "code",
   "execution_count": 8,
   "metadata": {},
   "outputs": [],
   "source": [
    "# d = {# : 123}  you can not have # as key beacuse it is used to comment \n",
    "# rise a SyntaxError: incomplete input"
   ]
  },
  {
   "cell_type": "code",
   "execution_count": 9,
   "metadata": {},
   "outputs": [
    {
     "ename": "TypeError",
     "evalue": "unhashable type: 'set'",
     "output_type": "error",
     "traceback": [
      "\u001b[1;31m---------------------------------------------------------------------------\u001b[0m",
      "\u001b[1;31mTypeError\u001b[0m                                 Traceback (most recent call last)",
      "Cell \u001b[1;32mIn[9], line 1\u001b[0m\n\u001b[1;32m----> 1\u001b[0m d \u001b[38;5;241m=\u001b[39m {{\u001b[38;5;241m1\u001b[39m,\u001b[38;5;241m2\u001b[39m,\u001b[38;5;241m3\u001b[39m}: \u001b[38;5;124m\"\u001b[39m\u001b[38;5;124mabc\u001b[39m\u001b[38;5;124m\"\u001b[39m} \u001b[38;5;66;03m# you cannot also have set as a key >> unhashble error \u001b[39;00m\n\u001b[0;32m      3\u001b[0m \u001b[38;5;66;03m# TypeError: unhashable type: 'set'\u001b[39;00m\n",
      "\u001b[1;31mTypeError\u001b[0m: unhashable type: 'set'"
     ]
    }
   ],
   "source": [
    "d = {{1,2,3}: \"abc\"} # you cannot also have set as a key >> unhashble error \n",
    "\n",
    "# TypeError: unhashable type: 'set'"
   ]
  },
  {
   "cell_type": "code",
   "execution_count": 10,
   "metadata": {},
   "outputs": [
    {
     "ename": "TypeError",
     "evalue": "unhashable type: 'dict'",
     "output_type": "error",
     "traceback": [
      "\u001b[1;31m---------------------------------------------------------------------------\u001b[0m",
      "\u001b[1;31mTypeError\u001b[0m                                 Traceback (most recent call last)",
      "Cell \u001b[1;32mIn[10], line 1\u001b[0m\n\u001b[1;32m----> 1\u001b[0m d \u001b[38;5;241m=\u001b[39m {{\u001b[38;5;124m\"\u001b[39m\u001b[38;5;124mkey\u001b[39m\u001b[38;5;124m\"\u001b[39m:\u001b[38;5;241m123\u001b[39m}:\u001b[38;5;124m\"\u001b[39m\u001b[38;5;124mswaraj\u001b[39m\u001b[38;5;124m\"\u001b[39m} \u001b[38;5;66;03m#also you can not have a dict as a value  >> rise a TypeError: unhashable type: 'dict\u001b[39;00m\n",
      "\u001b[1;31mTypeError\u001b[0m: unhashable type: 'dict'"
     ]
    }
   ],
   "source": [
    "d = {{\"key\":123}:\"swaraj\"} #also you can not have a dict as a value  >> rise a TypeError: unhashable type: 'dict\n"
   ]
  },
  {
   "cell_type": "code",
   "execution_count": 11,
   "metadata": {},
   "outputs": [],
   "source": [
    "# only string and number and floats that are immutable data type  can be used as a key of a dictionary"
   ]
  }
 ],
 "metadata": {
  "kernelspec": {
   "display_name": "Python 3",
   "language": "python",
   "name": "python3"
  },
  "language_info": {
   "codemirror_mode": {
    "name": "ipython",
    "version": 3
   },
   "file_extension": ".py",
   "mimetype": "text/x-python",
   "name": "python",
   "nbconvert_exporter": "python",
   "pygments_lexer": "ipython3",
   "version": "3.12.4"
  }
 },
 "nbformat": 4,
 "nbformat_minor": 2
}
