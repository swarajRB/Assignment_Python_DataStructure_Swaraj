{
 "cells": [
  {
   "cell_type": "markdown",
   "metadata": {},
   "source": [
    "## Q.1 Discuss string slicing and provide examples"
   ]
  },
  {
   "cell_type": "markdown",
   "metadata": {},
   "source": [
    "String slicing in Python is a technique used to access a subset of characters from a string. \n",
    "It allows you to retrieve specific parts of the string by specifying a range of indices.\n",
    "\n",
    "\n",
    "String slicing is a powerful feature that allows you to manipulate strings by extracting specific parts.\n",
    " Whether you're grabbing a portion of a string, skipping characters, or even reversing the string, slicing makes it easy to work with strings efficiently."
   ]
  },
  {
   "cell_type": "code",
   "execution_count": 19,
   "metadata": {},
   "outputs": [],
   "source": [
    "# the basic syntax :\n",
    "\n",
    "# string[start:stop:step] "
   ]
  },
  {
   "cell_type": "markdown",
   "metadata": {},
   "source": [
    "We simpley access the characters or the sub-string by the index values as abhove mentionted in the syntax \n",
    "\n",
    "The first index of a sring s stared as 0(zero) the second place is 1(one) and goes open\n",
    "\n",
    "here;\n",
    "\n",
    "Start : The first elemnt/char of the string. if we obmit it will take it the first index as zero(0) by default.\n",
    "\n",
    "stop :  The index where the sliceing ends , if we obmit it will take it as the last or end charecter by default.\n",
    "\n",
    "step:  The interval or the skip value of the slicing , if there is no skip value the by defalut it will take it as 1 means it will take every element "
   ]
  },
  {
   "cell_type": "markdown",
   "metadata": {},
   "source": [
    "1. basic slicing.\n"
   ]
  },
  {
   "cell_type": "code",
   "execution_count": 20,
   "metadata": {},
   "outputs": [
    {
     "name": "stdout",
     "output_type": "stream",
     "text": [
      "hello\n"
     ]
    }
   ],
   "source": [
    "text = \"hello world\"\n",
    "print(text[0:5])  # Output: hello\n",
    "\n",
    "# here the first inedx (0) is always inluded and the last index(5) is excluded, it means it print from 0,1,2,3 and 4 index(hello)"
   ]
  },
  {
   "cell_type": "markdown",
   "metadata": {},
   "source": [
    "2. Ommiting Start stop "
   ]
  },
  {
   "cell_type": "code",
   "execution_count": 21,
   "metadata": {},
   "outputs": [
    {
     "name": "stdout",
     "output_type": "stream",
     "text": [
      "Pyt\n",
      "hon\n",
      "Python\n",
      "Python\n"
     ]
    }
   ],
   "source": [
    "text = \"Python\"\n",
    "print(text[:3])   # Output: Pyt (returns the first three characters of the string.)\n",
    "print(text[3:])   # Output: hon (returns the string from the fourth character to the end.)\n",
    "\n",
    "print(text[:6]) # output : Python >>is print same as text [0:6] min.\n",
    "print(text[:]) #Output : Python >>>is print same as name [1:5] max length\n"
   ]
  },
  {
   "cell_type": "markdown",
   "metadata": {},
   "source": [
    "3. Negative indexing :"
   ]
  },
  {
   "cell_type": "code",
   "execution_count": 22,
   "metadata": {},
   "outputs": [
    {
     "name": "stdout",
     "output_type": "stream",
     "text": [
      "World\n",
      "rld\n",
      "Wor\n"
     ]
    }
   ],
   "source": [
    "text = \"Hello, World\"\n",
    "print(text[-5:])  # World \n",
    "print(text[-3:])  # rld\n",
    "print(text[-5:-2]) # Wor\n",
    "\n",
    "#   negative index counts from the end of the string.\n",
    "#  [-5:] slices the string starting from the 5th character from the end to the last character. "
   ]
  },
  {
   "cell_type": "markdown",
   "metadata": {},
   "source": [
    "4. Step  slicing with skip value"
   ]
  },
  {
   "cell_type": "code",
   "execution_count": 23,
   "metadata": {},
   "outputs": [
    {
     "name": "stdout",
     "output_type": "stream",
     "text": [
      "aceg\n"
     ]
    }
   ],
   "source": [
    "text = \"abcdefg\"\n",
    "print(text[::2])  # Output: aceg\n",
    "# This slices the string with a step of 2, meaning it skips every other character. \n",
    "# here the start index is 0 by default and end index is the last , and the staement print the value by of 2step\n",
    "\n",
    "# prints a ,skip b, prints c ,skips d, prints e , skips f and prints g "
   ]
  },
  {
   "cell_type": "markdown",
   "metadata": {},
   "source": [
    "5. Revers slicing "
   ]
  },
  {
   "cell_type": "code",
   "execution_count": 24,
   "metadata": {},
   "outputs": [
    {
     "name": "stdout",
     "output_type": "stream",
     "text": [
      "gfedcba\n"
     ]
    }
   ],
   "source": [
    "text = \"abcdefg\"\n",
    "print(text[::-1])  # Output: gfedcba \n",
    "\n",
    "#  by using step -1 you can reverse print the string \n",
    "# it first print the last index then reversly prints towards the starting "
   ]
  },
  {
   "cell_type": "markdown",
   "metadata": {},
   "source": [
    "\n",
    "\n",
    "\n",
    "\n",
    "\n",
    "THE above is just basics description of string slicing with small examples\n"
   ]
  }
 ],
 "metadata": {
  "kernelspec": {
   "display_name": "Python 3",
   "language": "python",
   "name": "python3"
  },
  "language_info": {
   "codemirror_mode": {
    "name": "ipython",
    "version": 3
   },
   "file_extension": ".py",
   "mimetype": "text/x-python",
   "name": "python",
   "nbconvert_exporter": "python",
   "pygments_lexer": "ipython3",
   "version": "3.12.4"
  }
 },
 "nbformat": 4,
 "nbformat_minor": 2
}
