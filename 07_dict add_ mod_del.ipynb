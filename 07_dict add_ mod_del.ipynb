{
 "cells": [
  {
   "cell_type": "markdown",
   "metadata": {},
   "source": [
    "## Q.7 Describe how to add , modify and delete items in a dictionary with examples.\n",
    "\n",
    "\n",
    "In Python, dictionaries are mutable collections that store data as key-value pairs\n",
    "\n",
    "keys are unique and immutable "
   ]
  },
  {
   "cell_type": "markdown",
   "metadata": {},
   "source": [
    "1. Adding Items to a Dictionary\n",
    "\n",
    "To add an item, you simply assign a value to a new key.\n",
    "\n",
    "dictionary_name[key] = value"
   ]
  },
  {
   "cell_type": "code",
   "execution_count": 30,
   "metadata": {},
   "outputs": [
    {
     "name": "stdout",
     "output_type": "stream",
     "text": [
      "{}\n",
      "{'name': 'Swaraj', 'age': 21, 'city': 'Jajpur road'}\n",
      "{'name': 'Swaraj', 'age': 21, 'city': 'Jajpur road', 'pin': 755019}\n"
     ]
    }
   ],
   "source": [
    "# Creating an empty dictionary\n",
    "my_dict = {} \n",
    "print(my_dict)\n",
    "\n",
    "# Adding items\n",
    "my_dict[\"name\"] = \"Swaraj\"\n",
    "my_dict[\"age\"] = 21\n",
    "my_dict[\"city\"] = \"Jajpur road\"\n",
    "\n",
    "print(my_dict)\n",
    "#output : {'name': 'Swaraj', 'age': 21, 'city': 'Jajpur road'}\n",
    "\n",
    "# adding another key-value pair to the list \n",
    "my_dict[\"pin\"] = 755019\n",
    "print(my_dict)\n",
    "# output : {'name': 'Swaraj', 'age': 21, 'city': 'Jajpur road', 'pin': 755019} \n"
   ]
  },
  {
   "cell_type": "markdown",
   "metadata": {},
   "source": [
    "2. Modifying Items in a Dictionary\n",
    "\n",
    "To modify an existing item in a dictionary, you reassign a new value to an existing key.\n",
    "\n",
    "dictionary_name[existing_key] = new_value"
   ]
  },
  {
   "cell_type": "code",
   "execution_count": 31,
   "metadata": {},
   "outputs": [
    {
     "name": "stdout",
     "output_type": "stream",
     "text": [
      "{'name': 'Swaraj', 'age': 21, 'city': 'Jajpur road', 'pin': 755019}\n",
      "{'name': 'Appu', 'age': 21, 'city': 'bhubaneswar', 'pin': 755001}\n"
     ]
    }
   ],
   "source": [
    "# my existing dictionary\n",
    "my_dict = {'name' : 'Swaraj',\n",
    "            'age' : 21, \n",
    "            'city' : 'Jajpur road', \n",
    "            'pin' : 755019}\n",
    "\n",
    "print(my_dict)\n",
    "\n",
    "# if i want to modify the dict i can do this by simply assigning a value to a old key\n",
    "\n",
    "# modifying\n",
    "my_dict[\"name\"] = \"Appu\"\n",
    "my_dict[\"city\"] = \"bhubaneswar\"\n",
    "my_dict[\"pin\"] = 755001\n",
    "\n",
    "print(my_dict)\n",
    "#output: 'name': 'Appu', 'age': 21, 'city': 'bhubaneswar', 'pin': 755001}"
   ]
  },
  {
   "cell_type": "markdown",
   "metadata": {},
   "source": [
    "3. Deleting Items from a Dictionary:\n",
    "\n",
    "You can delete an item using the \"del\" keyword or the \"pop()\" method.\n",
    "\n",
    "del dictionary_name[key]  Removes the key-value pair associated with the specified key.\n",
    "\n",
    "\n",
    "dictionary_name.pop(key).   Removes the key-value pair and returns the value.\n",
    "\n",
    "dictionary_name.popitem()  Removes and returns an arbitrary key-value pair."
   ]
  },
  {
   "cell_type": "code",
   "execution_count": 32,
   "metadata": {},
   "outputs": [
    {
     "name": "stdout",
     "output_type": "stream",
     "text": [
      "{'name': 'Appu', 'age': 21, 'city': 'bhubaneswar', 'pin': 755001}\n",
      "{'name': 'Appu', 'city': 'bhubaneswar', 'pin': 755001}\n",
      "{'name': 'Appu', 'city': 'bhubaneswar'}\n",
      "{'name': 'Appu'}\n"
     ]
    }
   ],
   "source": [
    "# Existing dictionary\n",
    "\n",
    "my_dict = {'name': 'Appu', 'age': 21, 'city': 'bhubaneswar', 'pin': 755001}\n",
    "print(my_dict)\n",
    "\n",
    "\n",
    "# Deleting an item \"del\"\n",
    "del my_dict['age']\n",
    "print(my_dict) \n",
    "#Output : {'name': 'Appu', 'city': 'bhubaneswar', 'pin': 755001}   (the age deleted)\n",
    "\n",
    "\n",
    "# Deleting an item with pop()\n",
    "age = my_dict.pop(\"pin\")\n",
    "\n",
    "print(my_dict)  #Output : {'name': 'Appu', 'city': 'bhubaneswar'}\n",
    "\n",
    "# deleting an item with popitem()\n",
    "\n",
    "my_dict.popitem()  # it will delt the last item iin the dict : ('city', 'bhubaneswar')\n",
    "print(my_dict) # output :{'name': 'Appu'}\n"
   ]
  },
  {
   "cell_type": "markdown",
   "metadata": {},
   "source": [
    "4. Additional Dictionary Operations:\n",
    "\n",
    "Updating a Dictionary:\n",
    "\n",
    "The update() method allows you to add multiple key-value pairs or update existing keys with new values in one operation.\n",
    "\n",
    "\n",
    "Clearing the Dictionary:\n",
    "\n",
    "The clear() method removes all items from the dictionary, leaving it empty.\n"
   ]
  },
  {
   "cell_type": "code",
   "execution_count": 33,
   "metadata": {},
   "outputs": [
    {
     "name": "stdout",
     "output_type": "stream",
     "text": [
      "{'name': 'Swaraj', 'age': 21}\n",
      "{'name': 'Swaraj', 'age': 21, 'city': 'jajpur road', 'pin': 755019}\n"
     ]
    }
   ],
   "source": [
    "\n",
    "# my existing dictionary\n",
    "my_dict = {'name' : 'Swaraj',\n",
    "            'age' : 21,  \n",
    "        }\n",
    "\n",
    "print(my_dict) # output : {'name': 'Swaraj', 'age': 21 }\n",
    "\n",
    "# updating a dictionary by update( )\n",
    "\n",
    "my_dict.update({\"city\": \"jajpur road\", \"pin\" : 755019})\n",
    "print(my_dict) # output : {'name': 'Swaraj', 'age': 21, 'city': 'jajpur road', 'pin': 755019}"
   ]
  },
  {
   "cell_type": "code",
   "execution_count": 34,
   "metadata": {},
   "outputs": [
    {
     "name": "stdout",
     "output_type": "stream",
     "text": [
      "{}\n"
     ]
    }
   ],
   "source": [
    "# Existing dictionary\n",
    "\n",
    "my_dict = {'name': 'Swaraj', 'age': 21}\n",
    "\n",
    "# Clearing the dictionary \n",
    "my_dict.clear()\n",
    "\n",
    "print(my_dict) # it will print a empty dict {}\n"
   ]
  },
  {
   "cell_type": "code",
   "execution_count": 35,
   "metadata": {},
   "outputs": [],
   "source": [
    "# Summary\n",
    "# Add items by assigning a value to a new key.\n",
    "# Modify items by reassigning a new value to an existing key.\n",
    "# Delete items using del or pop().\n",
    "# Clear the dictionary with clear().\n",
    "# Update multiple items with update().\n"
   ]
  }
 ],
 "metadata": {
  "kernelspec": {
   "display_name": "Python 3",
   "language": "python",
   "name": "python3"
  },
  "language_info": {
   "codemirror_mode": {
    "name": "ipython",
    "version": 3
   },
   "file_extension": ".py",
   "mimetype": "text/x-python",
   "name": "python",
   "nbconvert_exporter": "python",
   "pygments_lexer": "ipython3",
   "version": "3.12.4"
  }
 },
 "nbformat": 4,
 "nbformat_minor": 2
}
