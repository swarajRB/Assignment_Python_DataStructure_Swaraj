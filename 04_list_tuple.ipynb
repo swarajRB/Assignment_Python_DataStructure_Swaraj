{
 "cells": [
  {
   "cell_type": "markdown",
   "metadata": {},
   "source": [
    "## Q.4 Compare and contrast tuples and lists with examples"
   ]
  },
  {
   "cell_type": "markdown",
   "metadata": {},
   "source": [
    "Tuples and lists are both sequence data types in Python, but they have key differences in terms of mutability, performance, and usage.\n",
    "\n",
    "* List: Defined using square brackets  [ ].\n",
    "\n",
    "Ordered, mutable collections of elements. Think of shopping lists or task lists. Lists can hold items of various data types (numbers, strings, even other lists!).\n",
    "\n",
    "You can add, remove, or modify elements within a list using indexing and slicing. Lists are versatile for storing and managing collections that might change.\n",
    "\n",
    "\n"
   ]
  },
  {
   "cell_type": "markdown",
   "metadata": {},
   "source": [
    "* Tuple: Defined using parentheses  ( ).\n",
    "\n",
    "Ordered, immutable collections of elements, similar to lists. However, once created, the items in a tuple cannot be changed. They provide a secure way to store data that shouldn't be modified.\n",
    "\n",
    "You can access elements using indexing and slicing, but you cannot modify the content. Tuples are useful for representing fixed datasets or configurations."
   ]
  },
  {
   "cell_type": "markdown",
   "metadata": {},
   "source": [
    "1. Mutability\n",
    "\n",
    "List: Mutable. You can change, add, or remove elements after the list is created.\n",
    "\n",
    "Tuple: Immutable. Once a tuple is created, its elements cannot be changed."
   ]
  },
  {
   "cell_type": "code",
   "execution_count": 6,
   "metadata": {},
   "outputs": [
    {
     "name": "stdout",
     "output_type": "stream",
     "text": [
      "[4, 2, 3]\n"
     ]
    }
   ],
   "source": [
    "# List\n",
    "\n",
    "my_list = [1, 2, 3]\n",
    "\n",
    "my_list[0] = 4  # Modifying the first element\n",
    "\n",
    "print(my_list)  # Output: [4, 2, 3]\n"
   ]
  },
  {
   "cell_type": "code",
   "execution_count": 7,
   "metadata": {},
   "outputs": [
    {
     "ename": "TypeError",
     "evalue": "'tuple' object does not support item assignment",
     "output_type": "error",
     "traceback": [
      "\u001b[1;31m---------------------------------------------------------------------------\u001b[0m",
      "\u001b[1;31mTypeError\u001b[0m                                 Traceback (most recent call last)",
      "Cell \u001b[1;32mIn[7], line 5\u001b[0m\n\u001b[0;32m      1\u001b[0m \u001b[38;5;66;03m# Tuple\u001b[39;00m\n\u001b[0;32m      3\u001b[0m my_tuple \u001b[38;5;241m=\u001b[39m (\u001b[38;5;241m1\u001b[39m, \u001b[38;5;241m2\u001b[39m, \u001b[38;5;241m3\u001b[39m)\n\u001b[1;32m----> 5\u001b[0m \u001b[43mmy_tuple\u001b[49m\u001b[43m[\u001b[49m\u001b[38;5;241;43m0\u001b[39;49m\u001b[43m]\u001b[49m \u001b[38;5;241m=\u001b[39m \u001b[38;5;241m4\u001b[39m  \u001b[38;5;66;03m# This will raise a TypeError: 'tuple' object does not support item assignment\u001b[39;00m\n",
      "\u001b[1;31mTypeError\u001b[0m: 'tuple' object does not support item assignment"
     ]
    }
   ],
   "source": [
    "# Tuple\n",
    "\n",
    "my_tuple = (1, 2, 3)\n",
    "\n",
    "my_tuple[0] = 4  # This will raise a TypeError: 'tuple' object does not support item assignment\n"
   ]
  },
  {
   "cell_type": "code",
   "execution_count": 8,
   "metadata": {},
   "outputs": [
    {
     "name": "stdout",
     "output_type": "stream",
     "text": [
      "<class 'list'>\n",
      "<class 'tuple'>\n"
     ]
    }
   ],
   "source": [
    "# Syntax \n",
    "\n",
    "# List: Defined using square brackets []. \n",
    "\n",
    "my_list = [1, 2, 3]\n",
    "print(type(my_list))\n",
    "\n",
    "\n",
    "# Tuple: Defined using parentheses ().\n",
    "\n",
    "my_tuple = (1, 2, 3)\n",
    "print(type(my_tuple)) "
   ]
  },
  {
   "cell_type": "markdown",
   "metadata": {},
   "source": [
    "3. Performance\n",
    "\n",
    "List: Slightly slower due to mutability, which involves additional overhead.\n",
    "\n",
    "Tuple: Faster because they are immutable and thus have a smaller memory footprint."
   ]
  },
  {
   "cell_type": "code",
   "execution_count": null,
   "metadata": {},
   "outputs": [],
   "source": []
  },
  {
   "cell_type": "markdown",
   "metadata": {},
   "source": [
    "4. Usage\n",
    "\n",
    "List: Preferred when you need a collection of items that may need to be modified.Suitable when you need a sequence that can change over time (e.g., appending elements).\n",
    "\n",
    "Tuple: Preferred when you need a collection of items that should remain constant throughout the program.\n",
    "Ideal for fixed collections of items, such as representing a fixed set of values (like coordinates or a database record)."
   ]
  },
  {
   "cell_type": "code",
   "execution_count": 9,
   "metadata": {},
   "outputs": [
    {
     "name": "stdout",
     "output_type": "stream",
     "text": [
      "['milk', 'eggs', 'bread', 'butter']\n"
     ]
    }
   ],
   "source": [
    "# List usage\n",
    "shopping_list = [\"milk\", \"eggs\", \"bread\"]\n",
    "shopping_list.append(\"butter\")\n",
    "print(shopping_list)  # Output: ['milk', 'eggs', 'bread', 'butter']\n",
    "\n"
   ]
  },
  {
   "cell_type": "code",
   "execution_count": 10,
   "metadata": {},
   "outputs": [
    {
     "name": "stdout",
     "output_type": "stream",
     "text": [
      "(3, 4)\n"
     ]
    }
   ],
   "source": [
    "# Tuple usage\n",
    "point = (3, 4)\n",
    "print(point)  # Output: (3, 4)\n",
    "\n"
   ]
  },
  {
   "cell_type": "markdown",
   "metadata": {},
   "source": [
    "5. Functions and Methods\n",
    "\n",
    "List: Comes with many built-in methods such as append(), remove(), sort(), etc.\n",
    "\n",
    "Tuple: Has fewer methods, mainly count() and index()."
   ]
  },
  {
   "cell_type": "code",
   "execution_count": 11,
   "metadata": {},
   "outputs": [
    {
     "name": "stdout",
     "output_type": "stream",
     "text": [
      "[1, 2, 3, 4]\n"
     ]
    }
   ],
   "source": [
    "# List methods\n",
    "my_list = [1, 2, 3]\n",
    "my_list.append(4)  # Adds 4 to the end of the list\n",
    "print(my_list)  # Output: [1, 2, 3, 4]\n",
    "\n",
    "\n"
   ]
  },
  {
   "cell_type": "code",
   "execution_count": 12,
   "metadata": {},
   "outputs": [
    {
     "name": "stdout",
     "output_type": "stream",
     "text": [
      "2\n",
      "2\n"
     ]
    }
   ],
   "source": [
    "# Tuple methods\n",
    "my_tuple = (1, 2, 3, 2)\n",
    "print(my_tuple.count(2))  # Output: 2 (Counts the number of occurrences of 2)\n",
    "print(my_tuple.index(3))  # Output: 2 (Returns the index of the first occurrence of 3)"
   ]
  },
  {
   "cell_type": "markdown",
   "metadata": {},
   "source": [
    "6. Packing and Unpacking\n",
    "\n",
    "Both lists and tuples support packing (assigning multiple values to a single variable) and unpacking (extracting values into separate variables)."
   ]
  },
  {
   "cell_type": "code",
   "execution_count": 13,
   "metadata": {},
   "outputs": [
    {
     "name": "stdout",
     "output_type": "stream",
     "text": [
      "1 2 3\n",
      "1 2 3\n"
     ]
    }
   ],
   "source": [
    "# Tuple packing and unpacking\n",
    "my_tuple = (1, 2, 3)\n",
    "a, b, c = my_tuple\n",
    "print(a, b, c)  # Output: 1 2 3\n",
    "\n",
    "# List packing and unpacking\n",
    "my_list = [1, 2, 3]\n",
    "x, y, z = my_list\n",
    "print(x, y, z)  # Output: 1 2 3\n"
   ]
  },
  {
   "cell_type": "markdown",
   "metadata": {},
   "source": [
    "7. Length and Size\n",
    "\n",
    "List: Can change size dynamically (you can add or remove elements).\n",
    "\n",
    "Tuple: Fixed size (once created, the number of elements cannot change)."
   ]
  },
  {
   "cell_type": "code",
   "execution_count": 14,
   "metadata": {},
   "outputs": [
    {
     "name": "stdout",
     "output_type": "stream",
     "text": [
      "4\n"
     ]
    }
   ],
   "source": [
    "# List length changes\n",
    "my_list = [1, 2, 3]\n",
    "my_list.append(4)\n",
    "print(len(my_list))  # Output: 4\n"
   ]
  },
  {
   "cell_type": "code",
   "execution_count": 15,
   "metadata": {},
   "outputs": [
    {
     "name": "stdout",
     "output_type": "stream",
     "text": [
      "3\n"
     ]
    }
   ],
   "source": [
    "# Tuple length is fixed\n",
    "my_tuple = (1, 2, 3)\n",
    "print(len(my_tuple))  # Output: 3"
   ]
  }
 ],
 "metadata": {
  "kernelspec": {
   "display_name": "Python 3",
   "language": "python",
   "name": "python3"
  },
  "language_info": {
   "codemirror_mode": {
    "name": "ipython",
    "version": 3
   },
   "file_extension": ".py",
   "mimetype": "text/x-python",
   "name": "python",
   "nbconvert_exporter": "python",
   "pygments_lexer": "ipython3",
   "version": "3.12.4"
  }
 },
 "nbformat": 4,
 "nbformat_minor": 2
}
