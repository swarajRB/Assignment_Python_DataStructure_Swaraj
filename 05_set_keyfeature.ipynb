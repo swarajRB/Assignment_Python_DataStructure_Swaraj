{
 "cells": [
  {
   "cell_type": "markdown",
   "metadata": {},
   "source": [
    "# Q. 5   Describe the key features of sets and provide examples of their use .\n",
    "\n"
   ]
  },
  {
   "cell_type": "markdown",
   "metadata": {},
   "source": [
    "Sets are a fundamental data structure in Python that represent an unordered collection of unique elements. Here are the key features of sets:\n",
    "\n",
    "1. Unordered:\n",
    "\n",
    "Sets do not maintain the order of elements. This means that elements have no specific position or index.\n",
    "\n",
    "2. Unique Elements:\n",
    "\n",
    "A set automatically removes duplicate elements, ensuring that all elements are unique.\n",
    "\n",
    "\n",
    "3. Mutable:\n",
    "\n",
    "Sets are mutable, meaning you can add or remove elements after the set has been created.\n",
    "\n",
    "4. Unindexed:\n",
    "\n",
    "Unlike lists or tuples, sets do not have indexes or keys, so elements cannot be accessed by a specific position.\n",
    "\n",
    "5. Efficient Membership Testing:\n",
    "\n",
    "Sets are optimized for membership testing (checking if an element is in the set) due to their underlying implementation using hash tables.\n",
    "\n",
    "6. No Duplicates:\n",
    "\n",
    "If you try to add an element that already exists in the set, the set remains unchanged.\n"
   ]
  },
  {
   "cell_type": "code",
   "execution_count": 1,
   "metadata": {},
   "outputs": [
    {
     "name": "stdout",
     "output_type": "stream",
     "text": [
      "<class 'dict'>\n",
      "<class 'set'>\n"
     ]
    }
   ],
   "source": [
    "# Creating a set\n",
    "\n",
    "set = {}\n",
    "print(type(set)) # it will return dict because dict print key value pairs : <class 'dict'>\n",
    "\n",
    "\n",
    "# so type of empty set show as dict \n",
    "\n",
    "# if you put something in {} it will provide set couse it does not have any key value pair \n",
    "set1 = {\"swaraj\"}\n",
    "print(type(set1)) # will give result as :  <class set>\n",
    "\n"
   ]
  },
  {
   "cell_type": "code",
   "execution_count": 1,
   "metadata": {},
   "outputs": [
    {
     "name": "stdout",
     "output_type": "stream",
     "text": [
      "[1, 2, 3, 'brinjl', 'orange', 'ram', True, 56.4, 'orange', 'apple', 'apple']\n",
      "{1, 2, 3, 'apple', 'ram', 'brinjl', 56.4, 'orange'}\n"
     ]
    },
    {
     "data": {
      "text/plain": [
       "[1, 2, 3, 'brinjl', 'orange', 'ram', True, 56.4, 'orange', 'apple', 'apple']"
      ]
     },
     "execution_count": 1,
     "metadata": {},
     "output_type": "execute_result"
    }
   ],
   "source": [
    "# Removing Duplicates: When you have a list with duplicate entries, converting it to a set removes duplicates. \n",
    "\n",
    "#  Removing Duplicates from a List: \n",
    "\n",
    "list1 = [1,2,3,\"brinjl\",\"orange\",\"ram\",True,56.4,\"orange\", \"apple\",\"apple\"]\n",
    "#[1, 2, 3, 'brinjl', 'orange', 'ram', True, 56.4, 'orange', 'apple', 'apple']\n",
    "\n",
    "\n",
    "# if i print the list1 it will print all the element besause it is a list \n",
    "print(list1)\n",
    "\n",
    "# but if i convert this list1 to a set it will print only elemnt of \"list1\" not the repeted element\n",
    "print(set(list1)) #{1, 2, 3, 'ram', 'orange', 'apple', 'brinjl', 56.4}\n",
    "\n",
    "list(list1) # again converted to it a list\n"
   ]
  },
  {
   "cell_type": "code",
   "execution_count": 2,
   "metadata": {},
   "outputs": [
    {
     "name": "stdout",
     "output_type": "stream",
     "text": [
      "{1, 2, 4, 5, (3, 4, 6)}\n",
      "<class 'set'>\n",
      "{1, 2, 4, 5, (3, 4, 6), 100}\n",
      "{1, 2, 4, 5, (3, 4, 6), 100, 6}\n"
     ]
    }
   ],
   "source": [
    "# set is mutable \n",
    "\n",
    "ss1 = {1,2,4,5,(3,4,6)} \n",
    "print(ss1)\n",
    "print(type(ss1))    # <class 'set'>\n",
    "\n",
    "ss1.add(100) # {1, 2, 4, 5, (3, 4, 6), 100}\n",
    "print(ss1)\n",
    "ss1.add(6) # it not compulsorry that elemnt will be adedd to the last because sets are unordered\n",
    "print(ss1) # output : {1, 2, 4, 5, (3, 4, 6), 100, 6}"
   ]
  },
  {
   "cell_type": "code",
   "execution_count": 3,
   "metadata": {},
   "outputs": [
    {
     "data": {
      "text/plain": [
       "1"
      ]
     },
     "execution_count": 3,
     "metadata": {},
     "output_type": "execute_result"
    }
   ],
   "source": [
    "ss1.pop() #thoough it is unorded it also not compulsory that it will remove / pop the last element\n",
    "# it will only one orbitary element\n"
   ]
  },
  {
   "cell_type": "code",
   "execution_count": 4,
   "metadata": {},
   "outputs": [
    {
     "ename": "TypeError",
     "evalue": "set.pop() takes no arguments (1 given)",
     "output_type": "error",
     "traceback": [
      "\u001b[1;31m---------------------------------------------------------------------------\u001b[0m",
      "\u001b[1;31mTypeError\u001b[0m                                 Traceback (most recent call last)",
      "Cell \u001b[1;32mIn[4], line 1\u001b[0m\n\u001b[1;32m----> 1\u001b[0m \u001b[43mss1\u001b[49m\u001b[38;5;241;43m.\u001b[39;49m\u001b[43mpop\u001b[49m\u001b[43m(\u001b[49m\u001b[38;5;241;43m4\u001b[39;49m\u001b[43m)\u001b[49m \u001b[38;5;66;03m#it will not work becuae it ill remove one element randomly \u001b[39;00m\n\u001b[0;32m      2\u001b[0m \u001b[38;5;66;03m# TypeError: set.pop() takes no arguments (1 given)  \u001b[39;00m\n\u001b[0;32m      3\u001b[0m \u001b[38;5;28mprint\u001b[39m(ss1)\n",
      "\u001b[1;31mTypeError\u001b[0m: set.pop() takes no arguments (1 given)"
     ]
    }
   ],
   "source": [
    "ss1.pop(4) #it will not work becuae it ill remove one element randomly \n",
    "# TypeError: set.pop() takes no arguments (1 given)  \n",
    "print(ss1)"
   ]
  },
  {
   "cell_type": "code",
   "execution_count": 5,
   "metadata": {},
   "outputs": [
    {
     "name": "stdout",
     "output_type": "stream",
     "text": [
      "{2, 5, (3, 4, 6), 100, 6}\n"
     ]
    }
   ],
   "source": [
    "# you can specifically remove an element\n",
    "ss1.remove(4) # removes specific element\n",
    "print(ss1)  # output :\n",
    "\n"
   ]
  },
  {
   "cell_type": "code",
   "execution_count": 6,
   "metadata": {},
   "outputs": [
    {
     "name": "stdout",
     "output_type": "stream",
     "text": [
      "{2, 100, 5, (3, 4, 6), 6, 'y', 'a', 'j'}\n"
     ]
    }
   ],
   "source": [
    "ss1.update(\"ajay\")\n",
    "print(ss1) # it will add but in diiffrent char you know it s unodred\n",
    "ss1.update([\"swaraj\"])\n",
    "ss1.update([2,3]) #you have to add in thi way the integers cant directly ad"
   ]
  },
  {
   "cell_type": "code",
   "execution_count": 7,
   "metadata": {},
   "outputs": [
    {
     "name": "stdout",
     "output_type": "stream",
     "text": [
      "True\n",
      "False\n"
     ]
    }
   ],
   "source": [
    "# Membership Testing:Membership Tests:\n",
    "#  Since sets are optimized for membership tests, they are ideal for situations where you need to frequently check if an item exists in a collection.\n",
    "\n",
    "fruits = {\"apple\", \"banana\", \"cherry\"}\n",
    "print(\"banana\" in fruits)  # Output: True\n",
    "print(\"grape\" in fruits)   # Output: False\n",
    "\n"
   ]
  },
  {
   "cell_type": "markdown",
   "metadata": {},
   "source": [
    "Set operation:\n",
    "\n",
    "set operations \n",
    "1. Union >> combine elements from two setexcluding dupliates\n",
    "\n",
    "2. intersection >> only common elmrnt btween sets\n",
    "\n",
    "3. diffrenence >> returns the elments that present in 1st set and not in 2nd set\n",
    "\n",
    "4. symettry diffrent >> returns the elements that are prsent in eithe of the sets but not in both"
   ]
  },
  {
   "cell_type": "code",
   "execution_count": 8,
   "metadata": {},
   "outputs": [
    {
     "name": "stdout",
     "output_type": "stream",
     "text": [
      "{'cycling', 'photography', 'swimming', 'dancing', 'singing', 'coding'}\n",
      "{'dancing', 'coding'}\n",
      "{'swimming', 'cycling'}\n",
      "{'cycling', 'photography', 'swimming', 'singing'}\n"
     ]
    }
   ],
   "source": [
    "# set operation\n",
    "\n",
    "set1 = {\"coding\",\"swimming\",\"dancing\",\"cycling\"}\n",
    "\n",
    "set2 = {\"dancing\",\"coding\", \"singing\",\"photography\"}\n",
    "\n",
    "\n",
    "# 1 . union >> combine all the element\n",
    "print(set1 | set2) \n",
    "# output : {'dancing', 'coding', 'photography', 'singing', 'swimming', 'cycling'}\n",
    "\n",
    "\n",
    "# 2. intersection >> common elemnts\n",
    "\n",
    "print (set1 & set2)\n",
    "# output : {'dancing', 'coding'}\n",
    "\n",
    "\n",
    "# 3.  diffrence >> present in 1st not in 2nd\n",
    "\n",
    "print(set1 - set2)\n",
    "# output : {'swimming', 'cycling'}\n",
    "\n",
    "\n",
    "# symmetric diffrence : returns the elements that are prsent in eithe of the sets bit not in both\n",
    "print(set1 ^ set2)\n",
    "#output : {'photography', 'singing', 'swimming', 'cycling'}\n",
    "\n"
   ]
  }
 ],
 "metadata": {
  "kernelspec": {
   "display_name": "Python 3",
   "language": "python",
   "name": "python3"
  },
  "language_info": {
   "codemirror_mode": {
    "name": "ipython",
    "version": 3
   },
   "file_extension": ".py",
   "mimetype": "text/x-python",
   "name": "python",
   "nbconvert_exporter": "python",
   "pygments_lexer": "ipython3",
   "version": "3.12.4"
  }
 },
 "nbformat": 4,
 "nbformat_minor": 2
}
