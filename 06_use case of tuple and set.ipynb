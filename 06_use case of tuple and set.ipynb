{
 "cells": [
  {
   "cell_type": "markdown",
   "metadata": {},
   "source": [
    "## Q.6 Discuss the use cases of tuples and sets in Python programming . "
   ]
  },
  {
   "cell_type": "markdown",
   "metadata": {},
   "source": [
    "In Python, both tuples and sets serve specific purposes, and understanding their use cases is essential for writing efficient and readable code."
   ]
  },
  {
   "cell_type": "markdown",
   "metadata": {},
   "source": [
    "### Use Cases of Tuples in Python"
   ]
  },
  {
   "cell_type": "markdown",
   "metadata": {},
   "source": [
    "1.Immutability:\n",
    "\n",
    "Tuples are immutable, meaning once created, their content cannot be changed. This makes them useful for storing data that should not be modified throughout the program."
   ]
  },
  {
   "cell_type": "code",
   "execution_count": 1,
   "metadata": {},
   "outputs": [
    {
     "ename": "TypeError",
     "evalue": "'tuple' object does not support item assignment",
     "output_type": "error",
     "traceback": [
      "\u001b[1;31m---------------------------------------------------------------------------\u001b[0m",
      "\u001b[1;31mTypeError\u001b[0m                                 Traceback (most recent call last)",
      "Cell \u001b[1;32mIn[1], line 3\u001b[0m\n\u001b[0;32m      1\u001b[0m \u001b[38;5;66;03m# use case>> use tuples as a data structue where you donot want to modify a data\u001b[39;00m\n\u001b[0;32m      2\u001b[0m empid \u001b[38;5;241m=\u001b[39m (\u001b[38;5;241m1\u001b[39m,\u001b[38;5;241m2\u001b[39m,\u001b[38;5;241m3\u001b[39m,\u001b[38;5;241m4\u001b[39m,\u001b[38;5;241m5\u001b[39m)\n\u001b[1;32m----> 3\u001b[0m \u001b[43mempid\u001b[49m\u001b[43m[\u001b[49m\u001b[38;5;241;43m1\u001b[39;49m\u001b[43m]\u001b[49m \u001b[38;5;241m=\u001b[39m \u001b[38;5;241m100\u001b[39m  \u001b[38;5;66;03m#it will trough an eror \u001b[39;00m\n",
      "\u001b[1;31mTypeError\u001b[0m: 'tuple' object does not support item assignment"
     ]
    }
   ],
   "source": [
    "\n",
    "# use case>> use tuples as a data structue where you donot want to modify a data\n",
    "empid = (1,2,3,4,5)\n",
    "empid[1] = 100  #it will trough an eror  TypeError: 'tuple' object does not support item assignment\n"
   ]
  },
  {
   "cell_type": "markdown",
   "metadata": {},
   "source": [
    "2. Storing Heterogeneous Data:\n",
    "\n",
    "Tuples can hold a collection of items of different data types. This is useful when you need to group related data together."
   ]
  },
  {
   "cell_type": "code",
   "execution_count": 2,
   "metadata": {},
   "outputs": [
    {
     "name": "stdout",
     "output_type": "stream",
     "text": [
      "('Swaraj', 21, 'student')\n"
     ]
    }
   ],
   "source": [
    "info = (\"Swaraj\",21,\"student\")\n",
    "print(info) # output : ('Swaraj', 21, 'student')"
   ]
  },
  {
   "cell_type": "markdown",
   "metadata": {},
   "source": [
    "3. Returning Multiple Values from a Function:\n",
    "\n",
    "Functions in Python can return multiple values using tuples."
   ]
  },
  {
   "cell_type": "code",
   "execution_count": 3,
   "metadata": {},
   "outputs": [
    {
     "name": "stdout",
     "output_type": "stream",
     "text": [
      "pwskill <class 'str'>\n",
      "1 <class 'int'>\n",
      "1 <class 'int'>\n",
      "1 <class 'int'>\n",
      "1 <class 'int'>\n",
      "pwskill <class 'str'>\n",
      "swaraj <class 'str'>\n",
      "2.4 <class 'float'>\n"
     ]
    }
   ],
   "source": [
    "tuple1 = (\"pwskill\",1,1,1,1,\"pwskill\",\"swaraj\" ,2.4)\n",
    "tuple1.count(1)\n",
    "\n",
    "for i in  tuple1: #itrting\n",
    "    print(i,type(i))"
   ]
  },
  {
   "cell_type": "markdown",
   "metadata": {},
   "source": [
    "4. Dictionary Keys:\n",
    "\n",
    "Tuples can be used as keys in dictionaries because they are immutable."
   ]
  },
  {
   "cell_type": "code",
   "execution_count": 4,
   "metadata": {},
   "outputs": [
    {
     "name": "stdout",
     "output_type": "stream",
     "text": [
      "{(1, 2, 3): 'abc'}\n",
      "<class 'dict'>\n"
     ]
    }
   ],
   "source": [
    "d = {(1,2,3): \"abc\"} # you can have a tuple as a key > immutable\n",
    " \n",
    "print(d) #output : {(1, 2, 3): 'abc'}\n",
    "print(type(d))"
   ]
  },
  {
   "cell_type": "markdown",
   "metadata": {},
   "source": [
    "### Use Cases of Sets in Python"
   ]
  },
  {
   "cell_type": "markdown",
   "metadata": {},
   "source": [
    "1. Use Cases of Sets in Python\n",
    "\n",
    "Sets automatically eliminate duplicate elements. This is useful when you need to store a collection of unique items."
   ]
  },
  {
   "cell_type": "code",
   "execution_count": 5,
   "metadata": {},
   "outputs": [
    {
     "name": "stdout",
     "output_type": "stream",
     "text": [
      "{1, (1, 2), 'swaraj', 5, 'SWARAJ', 45}\n"
     ]
    }
   ],
   "source": [
    "set ={1, 5, 45,5,\"swaraj\", \"swaraj\", \"SWARAJ\",True,(1,2)} \n",
    "print(set) # output : {1, (1, 2), 5, 'swaraj', 'SWARAJ', 45}"
   ]
  },
  {
   "cell_type": "markdown",
   "metadata": {},
   "source": [
    "2. Fast Membership Testing:\n",
    "\n",
    "Use Case: Sets are optimized for checking whether an element is present or not. This makes them ideal when you need to perform frequent membership checks."
   ]
  },
  {
   "cell_type": "code",
   "execution_count": 6,
   "metadata": {},
   "outputs": [
    {
     "name": "stdout",
     "output_type": "stream",
     "text": [
      "True\n",
      "False\n"
     ]
    }
   ],
   "source": [
    "numbers = {1, 2, 3, 4, 5}\n",
    "print(3 in numbers)  # Output: True\n",
    "print(6 in numbers)  # Output: False\n"
   ]
  },
  {
   "cell_type": "markdown",
   "metadata": {},
   "source": [
    "3. Mathematical Set Operations:\n",
    "\n",
    "Use Case: Sets support operations like union, intersection, and difference, which are useful when working with multiple sets of data."
   ]
  },
  {
   "cell_type": "code",
   "execution_count": 7,
   "metadata": {},
   "outputs": [
    {
     "name": "stdout",
     "output_type": "stream",
     "text": [
      "{1, 2, 3, 4, 5}\n",
      "{3}\n",
      "{1, 2}\n"
     ]
    }
   ],
   "source": [
    "set1 = {1, 2, 3}\n",
    "set2 = {3, 4, 5}\n",
    "\n",
    "# 1 . union >> combine all the element\n",
    "print(set1 | set2)  # output : {1, 2, 3, 4, 5}\n",
    "\n",
    "\n",
    "\n",
    "# 2. intersection >> common elemnts\n",
    "\n",
    "print (set1 & set2)  # output :  {3}\n",
    "\n",
    "\n",
    "# 3.  diffrence >> present in 1st not in 2nd\n",
    "\n",
    "print(set1 - set2)  # Difference: {1, 2}"
   ]
  },
  {
   "cell_type": "markdown",
   "metadata": {},
   "source": [
    "4. Removing Duplicates from a List:\n",
    "\n",
    "Use Case: You can convert a list to a set to remove any duplicate items, and then convert it back to a list if needed."
   ]
  },
  {
   "cell_type": "code",
   "execution_count": 1,
   "metadata": {},
   "outputs": [
    {
     "name": "stdout",
     "output_type": "stream",
     "text": [
      "[1, 2, 3, 'brinjl', 'orange', 2, 'ram', True, 56.4, 'orange', 'apple', 'apple']\n",
      "{1, 2, 3, 'orange', 'apple', 'ram', 'brinjl', 56.4}\n"
     ]
    }
   ],
   "source": [
    "# use case\n",
    "\n",
    "list1 = [1,2,3,\"brinjl\",\"orange\",2,\"ram\",True,56.4,\"orange\", \"apple\",\"apple\"]\n",
    "\n",
    "# if i print the list1 it will print all the element besause it is a list \n",
    "print(list1)\n",
    "\n",
    "# but if i convert this list1 to a set it will print only elemnt of elemnts nott the repeted elemnt\n",
    "print(set(list1)) #{1, 2, 3, 'ram', 'orange', 'apple', 'brinjl', 56.4}"
   ]
  },
  {
   "cell_type": "markdown",
   "metadata": {},
   "source": [
    "Both tuples and sets offer specific advantages in terms of immutability, efficiency, and data integrity, making them valuable tools in different programming scenarios."
   ]
  }
 ],
 "metadata": {
  "kernelspec": {
   "display_name": "Python 3",
   "language": "python",
   "name": "python3"
  },
  "language_info": {
   "codemirror_mode": {
    "name": "ipython",
    "version": 3
   },
   "file_extension": ".py",
   "mimetype": "text/x-python",
   "name": "python",
   "nbconvert_exporter": "python",
   "pygments_lexer": "ipython3",
   "version": "3.12.4"
  }
 },
 "nbformat": 4,
 "nbformat_minor": 2
}
