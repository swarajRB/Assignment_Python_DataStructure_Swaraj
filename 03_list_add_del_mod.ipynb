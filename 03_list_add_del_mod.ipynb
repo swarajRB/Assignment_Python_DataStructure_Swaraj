{
 "cells": [
  {
   "cell_type": "markdown",
   "metadata": {},
   "source": [
    "## Q. 3  Describe how to access, modify, and delete elements in a list with examples."
   ]
  },
  {
   "cell_type": "markdown",
   "metadata": {},
   "source": [
    "Accessing, modifying, and deleting elements in a list are fundamental operations that allow you to manipulate lists according to your needs.\n",
    "\n",
    "Python's list indexing, slicing, and various built-in methods provide powerful tools for working with lists effectively.\n",
    "\n",
    "Lists in Python allow you to store multiple elements, and you can access, modify, or delete these elements using various techniques.\n",
    "\n",
    "1. Accessing: Use indices to get elements.\n",
    "2. Modifying: Assign a new value to an index or a slice.\n",
    "3. Deleting: Use del for index-based deletion, pop() to remove and return elements, and remove() to delete by value."
   ]
  },
  {
   "cell_type": "markdown",
   "metadata": {},
   "source": [
    "### 1. Accessing Elements\n",
    "You can access elements in a list using indexing and slicing."
   ]
  },
  {
   "cell_type": "code",
   "execution_count": 23,
   "metadata": {},
   "outputs": [
    {
     "name": "stdout",
     "output_type": "stream",
     "text": [
      "10\n",
      "40\n"
     ]
    }
   ],
   "source": [
    "\n",
    "# Indexing: Use the index of the element to access it.\n",
    "# Python uses zero-based indexing, meaning the first element is at index 0.\n",
    "\n",
    "\n",
    "my_list = [10, 20, 30, 40, 50]\n",
    "\n",
    "print(my_list[0])  # Output: 10\n",
    "\n",
    "print(my_list[3])  # Output: 40\n"
   ]
  },
  {
   "cell_type": "code",
   "execution_count": 24,
   "metadata": {},
   "outputs": [
    {
     "name": "stdout",
     "output_type": "stream",
     "text": [
      "50\n",
      "30\n"
     ]
    }
   ],
   "source": [
    "# Negative Indexing: Use negative indices to access elements from the end of the list\n",
    "\n",
    "my_list = [10, 20, 30, 40, 50]\n",
    "\n",
    "print(my_list[-1])  # Output: 50\n",
    "\n",
    "print(my_list[-3])  # Output: 30\n"
   ]
  },
  {
   "cell_type": "code",
   "execution_count": 25,
   "metadata": {},
   "outputs": [
    {
     "name": "stdout",
     "output_type": "stream",
     "text": [
      "[20, 30, 40]\n"
     ]
    }
   ],
   "source": [
    "# Slicing: Access a range of elements by specifying a start and end index. \n",
    "\n",
    "\n",
    "my_list = [10, 20, 30, 40, 50]\n",
    "\n",
    "\n",
    "print(my_list[1:4])  # Output: [20, 30, 40]\n",
    "\n"
   ]
  },
  {
   "cell_type": "markdown",
   "metadata": {},
   "source": [
    "### 2. Modifying Elements\n",
    "Lists are mutable, so you can change the value of elements by accessing them through their index.\n"
   ]
  },
  {
   "cell_type": "code",
   "execution_count": 26,
   "metadata": {},
   "outputs": [
    {
     "name": "stdout",
     "output_type": "stream",
     "text": [
      "[10, 20, 35, 40, 50]\n"
     ]
    }
   ],
   "source": [
    "# Modifying a Single Element: Assign a new value to a specific index. \n",
    "\n",
    "\n",
    "my_list = [10, 20, 30, 40, 50]\n",
    "\n",
    "my_list[2] = 35\n",
    "\n",
    "print(my_list)  # Output: [10, 20, 35, 40, 50]\n"
   ]
  },
  {
   "cell_type": "code",
   "execution_count": 27,
   "metadata": {},
   "outputs": [
    {
     "name": "stdout",
     "output_type": "stream",
     "text": [
      "[10, 25, 35, 40, 50]\n"
     ]
    }
   ],
   "source": [
    "# Modifying a Range of Elements : Use slicing to change multiple elements at once.\n",
    "\n",
    "my_list = [10, 20, 30, 40, 50]\n",
    "\n",
    "my_list[1:3] = [25, 35]\n",
    "\n",
    "print(my_list)  # Output: [10, 25, 35, 40, 50]\n"
   ]
  },
  {
   "cell_type": "code",
   "execution_count": 28,
   "metadata": {},
   "outputs": [
    {
     "name": "stdout",
     "output_type": "stream",
     "text": [
      "[10, 20, 25, 27, 30, 40, 50]\n"
     ]
    }
   ],
   "source": [
    "# Inserting Elements with Slicing: You can insert new elements by assigning values to a slice.\n",
    "\n",
    "\n",
    "my_list = [10, 20, 30, 40, 50]\n",
    "\n",
    "my_list[2:2] = [25, 27]\n",
    "\n",
    "print(my_list)  # Output: [10, 20, 25, 27, 30, 40, 50]\n"
   ]
  },
  {
   "cell_type": "markdown",
   "metadata": {},
   "source": [
    "### 3. Deleting Elements\n",
    "\n",
    "You can remove elements from a list using the del statement, remove() method, pop() method, or by assigning an empty list to a slice.\n",
    "\n"
   ]
  },
  {
   "cell_type": "code",
   "execution_count": 29,
   "metadata": {},
   "outputs": [
    {
     "name": "stdout",
     "output_type": "stream",
     "text": [
      "[10, 30, 40, 50]\n"
     ]
    }
   ],
   "source": [
    "#  del statement to remove an element by its index. \n",
    "\n",
    "my_list = [10, 20, 30, 40, 50]\n",
    "del my_list[1]\n",
    "print(my_list)  # Output: [10, 30, 40, 50]\n"
   ]
  },
  {
   "cell_type": "code",
   "execution_count": 30,
   "metadata": {},
   "outputs": [
    {
     "name": "stdout",
     "output_type": "stream",
     "text": [
      "[10, 30, 20, 50]\n"
     ]
    }
   ],
   "source": [
    "# remove() method to remove the first occurrence of a specific value. \n",
    "\n",
    "\n",
    "my_list = [10, 20, 30, 20, 50]\n",
    "\n",
    "my_list.remove(20)\n",
    "\n",
    "print(my_list)  # Output: [10, 30, 20, 50]\n"
   ]
  },
  {
   "cell_type": "code",
   "execution_count": 31,
   "metadata": {},
   "outputs": [
    {
     "name": "stdout",
     "output_type": "stream",
     "text": [
      "30\n",
      "[10, 20, 40, 50]\n"
     ]
    }
   ],
   "source": [
    "#  pop() method to remove an element by index and return it.\n",
    "\n",
    "my_list = [10, 20, 30, 40, 50]\n",
    "\n",
    "print(my_list.pop(2)) # Output: 30\n",
    "\n",
    "\n",
    "print(my_list)        # Output: [10, 20, 40, 50]\n"
   ]
  },
  {
   "cell_type": "code",
   "execution_count": 32,
   "metadata": {},
   "outputs": [
    {
     "name": "stdout",
     "output_type": "stream",
     "text": [
      "[10, 40, 50]\n"
     ]
    }
   ],
   "source": [
    "# slicing with the del statement to remove multiple elements.\n",
    "\n",
    "\n",
    "\n",
    "my_list = [10, 20, 30, 40, 50]\n",
    "\n",
    "del my_list[1:3]\n",
    "\n",
    "\n",
    "print(my_list)  # Output: [10, 40, 50]\n"
   ]
  },
  {
   "cell_type": "code",
   "execution_count": 33,
   "metadata": {},
   "outputs": [
    {
     "name": "stdout",
     "output_type": "stream",
     "text": [
      "[]\n"
     ]
    }
   ],
   "source": [
    "# clear()\n",
    "\n",
    "my_list = [10, 20, 30, 40, 50]\n",
    "\n",
    "my_list.clear()\n",
    "\n",
    "print(my_list)  # Output: []\n"
   ]
  }
 ],
 "metadata": {
  "kernelspec": {
   "display_name": "Python 3",
   "language": "python",
   "name": "python3"
  },
  "language_info": {
   "codemirror_mode": {
    "name": "ipython",
    "version": 3
   },
   "file_extension": ".py",
   "mimetype": "text/x-python",
   "name": "python",
   "nbconvert_exporter": "python",
   "pygments_lexer": "ipython3",
   "version": "3.12.4"
  }
 },
 "nbformat": 4,
 "nbformat_minor": 2
}
